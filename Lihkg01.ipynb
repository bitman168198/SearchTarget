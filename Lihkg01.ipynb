{
 "cells": [
  {
   "cell_type": "code",
   "execution_count": 8,
   "metadata": {},
   "outputs": [],
   "source": [
    "# ! pip install selenium "
   ]
  },
  {
   "cell_type": "code",
   "execution_count": 7,
   "metadata": {},
   "outputs": [],
   "source": [
    "## Download chromDriver \n",
    "##- https://chromedriver.chromium.org/downloads\n",
    "##- https://chromedriver.storage.googleapis.com/index.html?path=83.0.4103.39/\n",
    "    "
   ]
  },
  {
   "cell_type": "code",
   "execution_count": 121,
   "metadata": {},
   "outputs": [],
   "source": [
    "from selenium import webdriver\n",
    "driver = webdriver.Chrome('chromedriver.exe')\n",
    "driver.get('https://www.google.com/search?safe=active&sxsrf=ALeKk03vh5ggw-HFHiSaKe6ojqgv93QbGw%3A1588919106263&ei=Qvu0XpPaD9PX-QbC-YvQDw&q=site%3Alihkg.com+%22%E9%BB%83%E5%BF%83%E7%A9%8E%28%E5%9B%9E%E6%B8%AF%E9%9D%A9%E5%91%BD%29%22+&oq=site%3Alihkg.com+%22%E9%BB%83%E5%BF%83%E7%A9%8E%28%E5%9B%9E%E6%B8%AF%E9%9D%A9%E5%91%BD%29%22+&gs_lcp=CgZwc3ktYWIQA1D1KFj1KGCEK2gAcAB4AIABeIgBeJIBAzAuMZgBAKABAaoBB2d3cy13aXo&sclient=psy-ab&ved=0ahUKEwiTg5_30KPpAhXTa94KHcL8AvoQ4dUDCAw&uact=5')\n",
    "#driver.close()"
   ]
  },
  {
   "cell_type": "code",
   "execution_count": 122,
   "metadata": {},
   "outputs": [],
   "source": [
    "from bs4 import BeautifulSoup\n",
    "soup = BeautifulSoup(driver.page_source, 'lxml')"
   ]
  },
  {
   "cell_type": "code",
   "execution_count": 123,
   "metadata": {},
   "outputs": [
    {
     "output_type": "stream",
     "name": "stdout",
     "text": "end of process\n"
    }
   ],
   "source": [
    "\n",
    "import time\n",
    "import pandas as pd \n",
    "\n",
    "threads=[]\n",
    "pages=[]\n",
    "urls=[]\n",
    "\n",
    "soup = BeautifulSoup(driver.page_source, 'lxml')\n",
    "hrefs=soup.select ('a[href^=\"https://lihkg.com/thread/\"]')\n",
    "for href in hrefs:\n",
    "    url=href.get('href')\n",
    "    urls.append(url)\n",
    "    threads.append(int((url[url.find('thread')+len ('thread') +1:url.find('page')-1])))\n",
    "    pages.append(int(url[url.find('page')+len('page')+1:]))\n",
    "try:\n",
    "    while len(soup.select('.G0iuSb')) > 0:\n",
    "        driver.find_element_by_link_text('Next').click()\n",
    "        #c_urls()\n",
    "        soup = BeautifulSoup(driver.page_source, 'lxml')\n",
    "        hrefs=soup.select ('a[href^=\"https://lihkg.com/thread/\"]')\n",
    "        for href in hrefs:\n",
    "            url=href.get('href')\n",
    "            urls.append(url)\n",
    "            threads.append(int((url[url.find('thread')+len ('thread') +1:url.find('page')-1])))\n",
    "            pages.append(int(url[url.find('page')+len('page')+1:]))\n",
    "        time.sleep(1)\n",
    "except:\n",
    "    #df = pd.DataFrame(urls,threads,pages)\n",
    "    #print (df)\n",
    "    print(\"end of process\")"
   ]
  },
  {
   "cell_type": "markdown",
   "metadata": {},
   "source": []
  },
  {
   "cell_type": "code",
   "execution_count": 12,
   "metadata": {},
   "outputs": [],
   "source": [
    "soup = BeautifulSoup(driver.page_source, 'lxml')\n",
    "hrefs=soup.select ('a[href^=\"https://lihkg.com/thread/\"]')\n",
    "for href in hrefs:\n",
    "    url=href.get('href')\n",
    "    urls.append(urls)\n",
    "    threads.append(int((url[url.find('thread')+len ('thread') +1:url.find('page')-1])))\n",
    "    pages.append(int((url[-1:])))\n",
    "#print(urls)"
   ]
  },
  {
   "cell_type": "code",
   "execution_count": 13,
   "metadata": {},
   "outputs": [
    {
     "output_type": "error",
     "ename": "NameError",
     "evalue": "name 'url' is not defined",
     "traceback": [
      "\u001b[1;31m---------------------------------------------------------------------------\u001b[0m",
      "\u001b[1;31mNameError\u001b[0m                                 Traceback (most recent call last)",
      "\u001b[1;32m<ipython-input-13-5446fb31b66c>\u001b[0m in \u001b[0;36m<module>\u001b[1;34m\u001b[0m\n\u001b[1;32m----> 1\u001b[1;33m \u001b[0murl\u001b[0m\u001b[1;33m\u001b[0m\u001b[1;33m\u001b[0m\u001b[0m\n\u001b[0m",
      "\u001b[1;31mNameError\u001b[0m: name 'url' is not defined"
     ]
    }
   ],
   "source": [
    "url"
   ]
  },
  {
   "cell_type": "code",
   "execution_count": null,
   "metadata": {},
   "outputs": [],
   "source": [
    "    threads=[]\n",
    "    for thread in urls:\n",
    "        threads.append(int((thread[thread.find('thread')+len('thread') +1:thread.find('page')-1])))\n",
    "    #print(threads)\n"
   ]
  },
  {
   "cell_type": "code",
   "execution_count": null,
   "metadata": {},
   "outputs": [],
   "source": [
    "    pages=[]\n",
    "    for page in urls:\n",
    "        pages.append(int((page[page.find('page')))\n",
    "#print(Pages)"
   ]
  },
  {
   "cell_type": "code",
   "execution_count": 116,
   "metadata": {},
   "outputs": [
    {
     "output_type": "execute_result",
     "data": {
      "text/plain": "'1'"
     },
     "metadata": {},
     "execution_count": 116
    }
   ],
   "source": [
    "url[url.find('page')+len('page')+1:]"
   ]
  },
  {
   "cell_type": "code",
   "execution_count": 112,
   "metadata": {},
   "outputs": [
    {
     "output_type": "execute_result",
     "data": {
      "text/plain": "<function print>"
     },
     "metadata": {},
     "execution_count": 112
    }
   ],
   "source": [
    "print"
   ]
  },
  {
   "cell_type": "code",
   "execution_count": 124,
   "metadata": {},
   "outputs": [],
   "source": [
    "table=[('urls',urls),('threads',threads),('pages',pages)]\n",
    "df =pd.DataFrame.from_items(table)\n",
    "df.to_excel(r'lihk.xlsx',index=False)\n"
   ]
  },
  {
   "cell_type": "markdown",
   "metadata": {},
   "source": [
    "ll"
   ]
  },
  {
   "cell_type": "code",
   "execution_count": 71,
   "metadata": {},
   "outputs": [
    {
     "output_type": "execute_result",
     "data": {
      "text/plain": "                                        urls  threads  pages\n0    https://lihkg.com/thread/1788277/page/2  1788277      2\n1    https://lihkg.com/thread/1829208/page/1  1829208      1\n2    https://lihkg.com/thread/1804574/page/8  1804574      8\n3    https://lihkg.com/thread/1948056/page/7  1948056      7\n4    https://lihkg.com/thread/1988842/page/2  1988842      2\n..                                       ...      ...    ...\n256  https://lihkg.com/thread/1808403/page/1  1808403      1\n257  https://lihkg.com/thread/1785653/page/2  1785653      2\n258  https://lihkg.com/thread/1828082/page/5  1828082      5\n259  https://lihkg.com/thread/1821601/page/2  1821601      2\n260  https://lihkg.com/thread/1805992/page/1  1805992      1\n\n[261 rows x 3 columns]",
      "text/html": "<div>\n<style scoped>\n    .dataframe tbody tr th:only-of-type {\n        vertical-align: middle;\n    }\n\n    .dataframe tbody tr th {\n        vertical-align: top;\n    }\n\n    .dataframe thead th {\n        text-align: right;\n    }\n</style>\n<table border=\"1\" class=\"dataframe\">\n  <thead>\n    <tr style=\"text-align: right;\">\n      <th></th>\n      <th>urls</th>\n      <th>threads</th>\n      <th>pages</th>\n    </tr>\n  </thead>\n  <tbody>\n    <tr>\n      <td>0</td>\n      <td>https://lihkg.com/thread/1788277/page/2</td>\n      <td>1788277</td>\n      <td>2</td>\n    </tr>\n    <tr>\n      <td>1</td>\n      <td>https://lihkg.com/thread/1829208/page/1</td>\n      <td>1829208</td>\n      <td>1</td>\n    </tr>\n    <tr>\n      <td>2</td>\n      <td>https://lihkg.com/thread/1804574/page/8</td>\n      <td>1804574</td>\n      <td>8</td>\n    </tr>\n    <tr>\n      <td>3</td>\n      <td>https://lihkg.com/thread/1948056/page/7</td>\n      <td>1948056</td>\n      <td>7</td>\n    </tr>\n    <tr>\n      <td>4</td>\n      <td>https://lihkg.com/thread/1988842/page/2</td>\n      <td>1988842</td>\n      <td>2</td>\n    </tr>\n    <tr>\n      <td>...</td>\n      <td>...</td>\n      <td>...</td>\n      <td>...</td>\n    </tr>\n    <tr>\n      <td>256</td>\n      <td>https://lihkg.com/thread/1808403/page/1</td>\n      <td>1808403</td>\n      <td>1</td>\n    </tr>\n    <tr>\n      <td>257</td>\n      <td>https://lihkg.com/thread/1785653/page/2</td>\n      <td>1785653</td>\n      <td>2</td>\n    </tr>\n    <tr>\n      <td>258</td>\n      <td>https://lihkg.com/thread/1828082/page/5</td>\n      <td>1828082</td>\n      <td>5</td>\n    </tr>\n    <tr>\n      <td>259</td>\n      <td>https://lihkg.com/thread/1821601/page/2</td>\n      <td>1821601</td>\n      <td>2</td>\n    </tr>\n    <tr>\n      <td>260</td>\n      <td>https://lihkg.com/thread/1805992/page/1</td>\n      <td>1805992</td>\n      <td>1</td>\n    </tr>\n  </tbody>\n</table>\n<p>261 rows × 3 columns</p>\n</div>"
     },
     "metadata": {},
     "execution_count": 71
    }
   ],
   "source": [
    "df"
   ]
  },
  {
   "cell_type": "code",
   "execution_count": 81,
   "metadata": {},
   "outputs": [],
   "source": []
  },
  {
   "cell_type": "code",
   "execution_count": 93,
   "metadata": {},
   "outputs": [
    {
     "output_type": "stream",
     "name": "stdout",
     "text": "urls  threads  pages\n0    https://lihkg.com/thread/1788277/page/2  1788277      2\n1    https://lihkg.com/thread/1829208/page/1  1829208      1\n2    https://lihkg.com/thread/1804574/page/8  1804574      8\n3    https://lihkg.com/thread/1948056/page/7  1948056      7\n4    https://lihkg.com/thread/1988842/page/2  1988842      2\n..                                       ...      ...    ...\n256  https://lihkg.com/thread/1808403/page/1  1808403      1\n257  https://lihkg.com/thread/1785653/page/2  1785653      2\n258  https://lihkg.com/thread/1828082/page/5  1828082      5\n259  https://lihkg.com/thread/1821601/page/2  1821601      2\n260  https://lihkg.com/thread/1805992/page/1  1805992      1\n\n[261 rows x 3 columns]\n"
    }
   ],
   "source": [
    "print (df)"
   ]
  },
  {
   "cell_type": "code",
   "execution_count": 104,
   "metadata": {},
   "outputs": [],
   "source": [
    "grouped = df['urls'].groupby(df['threads'])\n"
   ]
  },
  {
   "cell_type": "code",
   "execution_count": 108,
   "metadata": {},
   "outputs": [
    {
     "output_type": "execute_result",
     "data": {
      "text/plain": "<bound method SeriesGroupBy.nunique of <pandas.core.groupby.generic.SeriesGroupBy object at 0x000002E54EA7CAC8>>"
     },
     "metadata": {},
     "execution_count": 108
    }
   ],
   "source": [
    "grouped."
   ]
  },
  {
   "cell_type": "code",
   "execution_count": null,
   "metadata": {},
   "outputs": [],
   "source": []
  }
 ],
 "metadata": {
  "kernelspec": {
   "display_name": "Python 3",
   "language": "python",
   "name": "python3"
  },
  "language_info": {
   "codemirror_mode": {
    "name": "ipython",
    "version": 3
   },
   "file_extension": ".py",
   "mimetype": "text/x-python",
   "name": "python",
   "nbconvert_exporter": "python",
   "pygments_lexer": "ipython3",
   "version": "3.7.4-final"
  }
 },
 "nbformat": 4,
 "nbformat_minor": 2
}